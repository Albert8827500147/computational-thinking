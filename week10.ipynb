{
  "nbformat": 4,
  "nbformat_minor": 0,
  "metadata": {
    "colab": {
      "name": "Untitled2.ipynb",
      "provenance": [],
      "include_colab_link": true
    },
    "kernelspec": {
      "name": "python3",
      "display_name": "Python 3"
    }
  },
  "cells": [
    {
      "cell_type": "markdown",
      "metadata": {
        "id": "view-in-github",
        "colab_type": "text"
      },
      "source": [
        "<a href=\"https://colab.research.google.com/github/Albert8827500147/computational-thinking/blob/master/week10.ipynb\" target=\"_parent\"><img src=\"https://colab.research.google.com/assets/colab-badge.svg\" alt=\"Open In Colab\"/></a>"
      ]
    },
    {
      "cell_type": "code",
      "metadata": {
        "id": "QWENge8OkkDA",
        "colab_type": "code",
        "colab": {
          "base_uri": "https://localhost:8080/",
          "height": 104
        },
        "outputId": "d4f2e817-197e-44bf-83c6-91cb7857a038"
      },
      "source": [
        "print(\"You are on a deserted island in a 2D world.\")\n",
        "print(\"Try to survive until rescue arrives!\")\n",
        "print(\"Available commands are in CAPITAL letters.\")\n",
        "print(\"Any other command exits the program\")\n",
        "print(\"First LOOK around...\") "
      ],
      "execution_count": 1,
      "outputs": [
        {
          "output_type": "stream",
          "text": [
            "You are on a deserted island in a 2D world.\n",
            "Try to survive until rescue arrives!\n",
            "Available commands are in CAPITAL letters.\n",
            "Any other command exits the program\n",
            "First LOOK around...\n"
          ],
          "name": "stdout"
        }
      ]
    },
    {
      "cell_type": "code",
      "metadata": {
        "id": "boSKWdAMqK6Z",
        "colab_type": "code",
        "colab": {
          "base_uri": "https://localhost:8080/",
          "height": 277
        },
        "outputId": "f93bd7ff-6943-4980-cc99-1532e5fac63c"
      },
      "source": [
        "do = input(\":: \")\n",
        "if do==\"LOOK\":\n",
        "  print(\"You are stuck in a sand dich.\")\n",
        "  print(\"Crawl out LEFT or RIGHT.\")\n",
        "  do = input(\":: \")\n",
        "\n",
        "if do == \"LEFT\":\n",
        "  print (\"You see a STARFISH and a CRAB on the sand.\")\n",
        "  print (\"And you're hungry! Which do you eat?\")\n",
        "\n",
        "do = input(\":: \") \n",
        "if do == \"STARFISH\": \n",
        "  print(\"Oh no! You immediately don't feel well.\")\n",
        "  print(\"You do not survive :(\") \n",
        "elif do == \"CRAB\": \n",
        "  print(\"Raw crab should be fine, right? YES or NO.\") \n",
        "\n",
        "do = input(\":: \") \n",
        "if do == \"YES\":\n",
        "  print(\"Ok, You eat it raw. Fingers crossed.\")\n",
        "  print(\"Food in your belly helps you see a TREE.\") \n",
        "do = input(\":: \") \n",
        "if do == \"TREE\":\n",
        "  print(\"It's a coconut tree! And you're thirsty!\") \n",
        "  print(\"Do you drink the coconut water? YES or NO.\")\n",
        "\n",
        "do = input(\":: \")\n",
        "if do == \"YES\":\n",
        "  print(\"Oh boy. Coconut water and raw crab don't mix.\")\n",
        "  print(\"You do not survive :(\") \n",
        "\n",
        "elif do == \"NO\":\n",
        "  print(\"Good choice.\")\n",
        "  print(\"Look! It's a rescue plane! You made it! \\o/\")\n",
        "elif do == \"NO\":\n",
        "  print(\"Well, there's nothing else left to eat.\")\n",
        "  print(\"You do not survive :(\") \n",
        "elif do == \"RIGHT\": \n",
        "  print(\"No can do. That side is very slippery.\") \n",
        "  print(\"You fall very far into some weird cavern.\") \n",
        "  print(\"You do not survive :(\") \n",
        "else: \n",
        "  print(\"You can only do actions shown in capital letters.\") \n",
        "  print(\"Try again!\") "
      ],
      "execution_count": 6,
      "outputs": [
        {
          "output_type": "stream",
          "text": [
            ":: LOOK\n",
            "You are stuck in a sand dich.\n",
            "Crawl out LEFT or RIGHT.\n",
            ":: LEFT\n",
            "You see a STARFISH and a CRAB on the sand.\n",
            "And you're hungry! Which do you eat?\n",
            ":: CRAB\n",
            "Raw crab should be fine, right? YES or NO.\n",
            ":: YES\n",
            "Ok, You eat it raw. Fingers crossed.\n",
            "Food in your belly helps you see a TREE.\n",
            ":: TRUE\n",
            ":: YES\n",
            "Oh boy. Coconut water and raw crab don't mix.\n",
            "You do not survive :(\n"
          ],
          "name": "stdout"
        }
      ]
    }
  ]
}