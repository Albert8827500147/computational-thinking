{
  "nbformat": 4,
  "nbformat_minor": 0,
  "metadata": {
    "colab": {
      "name": "11/4w9.ipynb",
      "provenance": [],
      "include_colab_link": true
    },
    "kernelspec": {
      "name": "python3",
      "display_name": "Python 3"
    }
  },
  "cells": [
    {
      "cell_type": "markdown",
      "metadata": {
        "id": "view-in-github",
        "colab_type": "text"
      },
      "source": [
        "<a href=\"https://colab.research.google.com/github/Albert8827500147/computational-thinking/blob/master/11_4w9.ipynb\" target=\"_parent\"><img src=\"https://colab.research.google.com/assets/colab-badge.svg\" alt=\"Open In Colab\"/></a>"
      ]
    },
    {
      "cell_type": "code",
      "metadata": {
        "id": "X-yGW6fhRlPU",
        "colab_type": "code",
        "colab": {
          "base_uri": "https://localhost:8080/",
          "height": 51
        },
        "outputId": "13311dd3-aaae-4c46-cd6a-5332764a0818"
      },
      "source": [
        "score=int(input())\n",
        "if score>=60:\n",
        "      print (\"good boy\")"
      ],
      "execution_count": 7,
      "outputs": [
        {
          "output_type": "stream",
          "text": [
            "100\n",
            "good boy\n"
          ],
          "name": "stdout"
        }
      ]
    },
    {
      "cell_type": "code",
      "metadata": {
        "id": "0kIrDcaJdm7I",
        "colab_type": "code",
        "colab": {
          "base_uri": "https://localhost:8080/",
          "height": 51
        },
        "outputId": "8b3dd76c-90e9-4e86-efb7-e28b4c5ab11f"
      },
      "source": [
        "score=int(input())\n",
        "if score>=60:\n",
        "      print (\"pass\")\n",
        "else:\n",
        "      print(\"fail\")"
      ],
      "execution_count": 15,
      "outputs": [
        {
          "output_type": "stream",
          "text": [
            "100\n",
            "pass\n"
          ],
          "name": "stdout"
        }
      ]
    },
    {
      "cell_type": "code",
      "metadata": {
        "id": "E_RL4uAgedLG",
        "colab_type": "code",
        "colab": {
          "base_uri": "https://localhost:8080/",
          "height": 51
        },
        "outputId": "8d6c68ee-4066-4891-eeaa-db05f7d36359"
      },
      "source": [
        "score=int(input())\n",
        "if score>=60:\n",
        "      print (\"pass\")\n",
        "else :\n",
        "      print(\"fail\")"
      ],
      "execution_count": 14,
      "outputs": [
        {
          "output_type": "stream",
          "text": [
            "59\n",
            "fail\n"
          ],
          "name": "stdout"
        }
      ]
    },
    {
      "cell_type": "code",
      "metadata": {
        "id": "9tyfAjSbex3s",
        "colab_type": "code",
        "colab": {
          "base_uri": "https://localhost:8080/",
          "height": 51
        },
        "outputId": "9d8ea6b1-8dc7-4b2a-d262-84141e0dcdb1"
      },
      "source": [
        "score=int(input())\n",
        "if score>=80:\n",
        "      print (\"pass\")\n",
        "elif score >=60:\n",
        "     print(\"ok\")\n",
        "else :\n",
        "      print(\"fail\")"
      ],
      "execution_count": 17,
      "outputs": [
        {
          "output_type": "stream",
          "text": [
            "100\n",
            "pass\n"
          ],
          "name": "stdout"
        }
      ]
    },
    {
      "cell_type": "code",
      "metadata": {
        "id": "FeCugQlPfIrk",
        "colab_type": "code",
        "colab": {
          "base_uri": "https://localhost:8080/",
          "height": 51
        },
        "outputId": "6938f8b9-5e4a-4f76-f82a-d3f880e5503d"
      },
      "source": [
        "score=int(input())\n",
        "if score>=80:\n",
        "      print (\"pass\")\n",
        "elif score >=60:\n",
        "     print(\"ok\")\n",
        "else :\n",
        "      print(\"fail\")\n",
        "      "
      ],
      "execution_count": 18,
      "outputs": [
        {
          "output_type": "stream",
          "text": [
            "70\n",
            "ok\n"
          ],
          "name": "stdout"
        }
      ]
    },
    {
      "cell_type": "code",
      "metadata": {
        "id": "4PYmEPuQfMR_",
        "colab_type": "code",
        "colab": {
          "base_uri": "https://localhost:8080/",
          "height": 51
        },
        "outputId": "bfa7eefa-0e00-49cd-8288-3f24d7ca64d5"
      },
      "source": [
        "score=int(input())\n",
        "if score>=80:\n",
        "      print (\"pass\")\n",
        "elif score >=60:\n",
        "     print(\"ok\")\n",
        "else :\n",
        "      print(\"fail\")"
      ],
      "execution_count": 19,
      "outputs": [
        {
          "output_type": "stream",
          "text": [
            "59\n",
            "fail\n"
          ],
          "name": "stdout"
        }
      ]
    },
    {
      "cell_type": "code",
      "metadata": {
        "id": "iXuaSR86hfkl",
        "colab_type": "code",
        "colab": {
          "base_uri": "https://localhost:8080/",
          "height": 68
        },
        "outputId": "f25cd029-6b23-4b1e-ebe1-cc5231af3b12"
      },
      "source": [
        "x=float(input(\"\"))\n",
        "y=float(input(\"\"))\n",
        "if (x>0):\n",
        "  if(y>0):\n",
        "    print(\"第一象限\")\n",
        "  else:\n",
        "    print(\"第四象限\")\n",
        "if (x<0):\n",
        "  if(y>0):\n",
        "    print(\"第二象限\")\n",
        "  else:\n",
        "    print(\"第三象限\")"
      ],
      "execution_count": 28,
      "outputs": [
        {
          "output_type": "stream",
          "text": [
            "1\n",
            "3\n",
            "第一象限\n"
          ],
          "name": "stdout"
        }
      ]
    },
    {
      "cell_type": "code",
      "metadata": {
        "id": "QgIgRL9ejMFU",
        "colab_type": "code",
        "colab": {
          "base_uri": "https://localhost:8080/",
          "height": 51
        },
        "outputId": "18fe2e2b-9caf-4db2-aadd-d8238d1bc536"
      },
      "source": [
        "x=-1\n",
        "y=1\n",
        "if x>0:\n",
        " print(\"I+IV\")\n",
        " if y>0:\n",
        "  print(\"I\")\n",
        " else:\n",
        "  print(\"IV\") \n",
        "  \n",
        "else: x<0\n",
        "print (\"II+III\")\n",
        "if y>0:\n",
        "        print(\"II\")\n",
        "else:\n",
        "        print(\"III\")\n",
        "\n"
      ],
      "execution_count": 54,
      "outputs": [
        {
          "output_type": "stream",
          "text": [
            "II+III\n",
            "II\n"
          ],
          "name": "stdout"
        }
      ]
    }
  ]
}