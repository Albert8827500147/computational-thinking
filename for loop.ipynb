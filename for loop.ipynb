{
  "nbformat": 4,
  "nbformat_minor": 0,
  "metadata": {
    "colab": {
      "name": "Untitled7.ipynb",
      "provenance": [],
      "include_colab_link": true
    },
    "kernelspec": {
      "name": "python3",
      "display_name": "Python 3"
    }
  },
  "cells": [
    {
      "cell_type": "markdown",
      "metadata": {
        "id": "view-in-github",
        "colab_type": "text"
      },
      "source": [
        "<a href=\"https://colab.research.google.com/github/Albert8827500147/computational-thinking/blob/master/for%20loop.ipynb\" target=\"_parent\"><img src=\"https://colab.research.google.com/assets/colab-badge.svg\" alt=\"Open In Colab\"/></a>"
      ]
    },
    {
      "cell_type": "code",
      "metadata": {
        "id": "eeSuv2miuX2A",
        "colab_type": "code",
        "colab": {
          "base_uri": "https://localhost:8080/",
          "height": 51
        },
        "outputId": "25ff60f5-815f-4b9e-ec87-f929c8b588ec"
      },
      "source": [
        "answer = \"a123\"\n",
        "while True:\n",
        "  password=input(\"Enter your password?\")\n",
        "  if password ==answer:\n",
        "     print(\"welcome\")\n",
        "     break\n",
        "else:\n",
        "  print(\"TRY AGAIN\")"
      ],
      "execution_count": 5,
      "outputs": [
        {
          "output_type": "stream",
          "text": [
            "Enter your password?a123\n",
            "welcome\n"
          ],
          "name": "stdout"
        }
      ]
    },
    {
      "cell_type": "code",
      "metadata": {
        "id": "VvdL2jBYwAXO",
        "colab_type": "code",
        "colab": {
          "base_uri": "https://localhost:8080/",
          "height": 68
        },
        "outputId": "61dee24c-cbe0-4e61-a207-5d5409b39e3e"
      },
      "source": [
        "answer1 =\"albert880921\"\n",
        "answer2 =\"123456789\"\n",
        "while True:\n",
        "  account_number=input(\"Enter your account_number\")\n",
        "  password=input(\"Enter your password\")\n",
        "  if (account_number==answer1 and password==answer2):\n",
        "    print (\"welcome\")\n",
        "    break\n",
        "else:\n",
        "  print(\"Try again\") \n"
      ],
      "execution_count": 13,
      "outputs": [
        {
          "output_type": "stream",
          "text": [
            "Enter your account_numberalbert880921\n",
            "Enter your password123456789\n",
            "welcome\n"
          ],
          "name": "stdout"
        }
      ]
    },
    {
      "cell_type": "code",
      "metadata": {
        "id": "dqs7OxWf4e-b",
        "colab_type": "code",
        "colab": {
          "base_uri": "https://localhost:8080/",
          "height": 34
        },
        "outputId": "95ba7368-8452-4ac1-94bb-2275c201e496"
      },
      "source": [
        "range(5)\n"
      ],
      "execution_count": 25,
      "outputs": [
        {
          "output_type": "execute_result",
          "data": {
            "text/plain": [
              "range(0, 5)"
            ]
          },
          "metadata": {
            "tags": []
          },
          "execution_count": 25
        }
      ]
    },
    {
      "cell_type": "code",
      "metadata": {
        "id": "J_zXIp1a1Ek_",
        "colab_type": "code",
        "colab": {
          "base_uri": "https://localhost:8080/",
          "height": 102
        },
        "outputId": "efc9af47-9c44-4837-c463-0bfeefc01042"
      },
      "source": [
        "# range is a Built-in function show list product\n",
        "\n",
        "for i in range(5):\n",
        " print(i)"
      ],
      "execution_count": 20,
      "outputs": [
        {
          "output_type": "stream",
          "text": [
            "0\n",
            "1\n",
            "2\n",
            "3\n",
            "4\n"
          ],
          "name": "stdout"
        }
      ]
    },
    {
      "cell_type": "code",
      "metadata": {
        "id": "OkupRKvG35ak",
        "colab_type": "code",
        "colab": {
          "base_uri": "https://localhost:8080/",
          "height": 68
        },
        "outputId": "c2f3290b-ed55-474e-80bf-21fba6d8a2f8"
      },
      "source": [
        "for i in range (2,5):\n",
        " print(i)"
      ],
      "execution_count": 22,
      "outputs": [
        {
          "output_type": "stream",
          "text": [
            "2\n",
            "3\n",
            "4\n"
          ],
          "name": "stdout"
        }
      ]
    },
    {
      "cell_type": "code",
      "metadata": {
        "id": "3BQOvLBU4FSO",
        "colab_type": "code",
        "colab": {
          "base_uri": "https://localhost:8080/",
          "height": 68
        },
        "outputId": "cb1cf265-16c1-426f-ebbb-553a3e6759c5"
      },
      "source": [
        "for i in range (2,10,3):\n",
        " print(i)"
      ],
      "execution_count": 23,
      "outputs": [
        {
          "output_type": "stream",
          "text": [
            "2\n",
            "5\n",
            "8\n"
          ],
          "name": "stdout"
        }
      ]
    },
    {
      "cell_type": "code",
      "metadata": {
        "id": "LRloRYsR6cym",
        "colab_type": "code",
        "colab": {
          "base_uri": "https://localhost:8080/",
          "height": 136
        },
        "outputId": "d31ca246-7851-4e55-bbce-77ef28a8095f"
      },
      "source": [
        " start= int(input(\"Enter a number?\"))\n",
        " end=int(input(\"Enter a number?\"))\n",
        " step=int(input(\"Enter a number?\"))\n",
        " \n",
        " sum=0\n",
        "\n",
        " for i in range (start,end,step):\n",
        "   sum=sum+i\n",
        "   print('i is',i,\"sum equals\",sum)"
      ],
      "execution_count": 36,
      "outputs": [
        {
          "output_type": "stream",
          "text": [
            "Enter a number?3\n",
            "Enter a number?13\n",
            "Enter a number?3\n",
            "i is 3 sum equals 3\n",
            "i is 6 sum equals 9\n",
            "i is 9 sum equals 18\n",
            "i is 12 sum equals 30\n"
          ],
          "name": "stdout"
        }
      ]
    }
  ]
}